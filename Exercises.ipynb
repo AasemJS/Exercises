{
 "cells": [
  {
   "cell_type": "code",
   "execution_count": 9,
   "metadata": {},
   "outputs": [
    {
     "name": "stdout",
     "output_type": "stream",
     "text": [
      "Wasif 27 [84, 92, 33, 83, 77]\n"
     ]
    }
   ],
   "source": [
    "class Student: \n",
    "    pass\n",
    "\n",
    "student_1 = Student()\n",
    "student_2 = Student()\n",
    "\n",
    "student_1.name = 'Wasif'\n",
    "student_1.grades = [84,92,33,83,77]\n",
    "student_1.age = 27\n",
    "\n",
    "print(student_1.name, student_1.age, student_1.grades)"
   ]
  },
  {
   "cell_type": "code",
   "execution_count": 52,
   "metadata": {},
   "outputs": [
    {
     "name": "stdout",
     "output_type": "stream",
     "text": [
      "Fail\n"
     ]
    }
   ],
   "source": [
    "class Student:\n",
    "    student_count = 0\n",
    "    organization = 'Technobyte'\n",
    "    \n",
    "    def __init__(self, name, age, grades, result=None):\n",
    "        self.name = name\n",
    "        Student.age = age\n",
    "        self.grades = grades\n",
    "        Student.student_count += 1\n",
    "        lowest_subj = min(self.grades)\n",
    "        if lowest_subj <= 33:\n",
    "            self.result = \"Fail\"\n",
    "        else:\n",
    "            self.result = \"Pass\"\n",
    "\n",
    "student_1 = Student('Wasif', 26, [76,45,67,76,38])\n",
    "student_2 = Student('Wasif', 22, [76,45,67,76,38])\n",
    "student_3 = Student('Wasif', 23, [76,45,27,76,38])\n",
    "#print (student_3.grades, ', ', student_3.name)\n",
    "\n",
    "#student_3.organization = 'Byte Academy' \n",
    "#print (Student.student_count)\n",
    "#print (student_3.organization)\n",
    "#print (len(student_3.grades))\n",
    "print (student_3.result)\n"
   ]
  },
  {
   "cell_type": "code",
   "execution_count": 46,
   "metadata": {},
   "outputs": [],
   "source": [
    "#class Graduate(Student):\n",
    "#    def __init__(self, name, age, grades, result, major):\n",
    "#        super().__init__(name, age, grades, result)\n",
    "#        self.major = major\n",
    "\n",
    "#graduate_1"
   ]
  },
  {
   "cell_type": "code",
   "execution_count": null,
   "metadata": {},
   "outputs": [],
   "source": []
  }
 ],
 "metadata": {
  "kernelspec": {
   "display_name": "Python 3",
   "language": "python",
   "name": "python3"
  },
  "language_info": {
   "codemirror_mode": {
    "name": "ipython",
    "version": 3
   },
   "file_extension": ".py",
   "mimetype": "text/x-python",
   "name": "python",
   "nbconvert_exporter": "python",
   "pygments_lexer": "ipython3",
   "version": "3.8.5"
  }
 },
 "nbformat": 4,
 "nbformat_minor": 4
}
